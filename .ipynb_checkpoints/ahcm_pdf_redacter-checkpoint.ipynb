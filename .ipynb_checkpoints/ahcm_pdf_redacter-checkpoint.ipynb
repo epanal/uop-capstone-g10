{
 "cells": [
  {
   "cell_type": "code",
   "execution_count": 87,
   "id": "3c2a3e1a-c03a-4d64-86b7-9300bda14a74",
   "metadata": {},
   "outputs": [],
   "source": [
    "import fitz\n",
    "import re\n",
    "import os"
   ]
  },
  {
   "cell_type": "code",
   "execution_count": 88,
   "id": "87ebc809-e521-4891-88a5-50b8f3b8c13e",
   "metadata": {},
   "outputs": [
    {
     "data": {
      "text/plain": [
       "'/Users/ethanpanal/Documents'"
      ]
     },
     "execution_count": 88,
     "metadata": {},
     "output_type": "execute_result"
    }
   ],
   "source": [
    "pwd"
   ]
  },
  {
   "cell_type": "code",
   "execution_count": 107,
   "id": "487d75fa-2467-4c9c-8117-8de357d4a005",
   "metadata": {},
   "outputs": [],
   "source": [
    "# Define paths\n",
    "input_folder = \"./UP/Capstone/ahcm/raw_ahcm_pdf\"\n",
    "output_folder = \"./UP/Capstone/ahcm/ahcm_redacted\""
   ]
  },
  {
   "cell_type": "code",
   "execution_count": 108,
   "id": "5fb218c2-8a52-4813-8103-897be592505e",
   "metadata": {},
   "outputs": [],
   "source": [
    "# Ensure output folder exists\n",
    "os.makedirs(output_folder, exist_ok=True)"
   ]
  },
  {
   "cell_type": "code",
   "execution_count": 116,
   "id": "2387d938-fa52-4538-b62c-85387b1b516d",
   "metadata": {},
   "outputs": [],
   "source": [
    "# Define regex patterns for sensitive data\n",
    "patterns = {\n",
    "    \"SSN\": r\"\\b\\d{3}-\\d{2}-\\d{4}\\b\",\n",
    "    \"Phone\": r\"\\b\\d{3}[-.\\s]?\\d{3}[-.\\s]?\\d{4}\\b\",\n",
    "    \"Email\": r\"\\b[A-Za-z0-9._%+-]+@[A-Za-z0-9.-]+\\.[A-Z|a-z]{2,7}\\b\",\n",
    "    \"Credit Card\": r\"\\b(?:\\d{4}[-\\s]?){3}\\d{4}\\b\",\n",
    "    \"Birthdate\": r\"Birthdate:\\s*\\d{2}/\\d{2}/\\d{4}\"\n",
    "}\n",
    "\n",
    "# Additional sensitive line patterns\n",
    "lo_year_line_pattern = r\".*LO-\\d{4}-.*\"\n",
    "client_line_pattern = r\".*\\(Client\\).*\"\n",
    "staff_present_pattern = r\".*Staff Present:\\s*.*\"\n",
    "date_line_pattern = r\".*\\b\\d{2}/\\d{2}/\\d{4}\\b.*\"\n"
   ]
  },
  {
   "cell_type": "code",
   "execution_count": 117,
   "id": "c01e3fa5-5f7b-46eb-b79d-97473408dbcb",
   "metadata": {},
   "outputs": [],
   "source": [
    "def anonymize_pdf(input_pdf, output_pdf):\n",
    "    doc = fitz.open(input_pdf)\n",
    "\n",
    "    for page in doc:\n",
    "        text = page.get_text(\"text\")\n",
    "\n",
    "        # Redact sensitive data using regex patterns\n",
    "        sensitive_lines = (\n",
    "            re.findall(client_line_pattern, text) + \n",
    "            re.findall(lo_year_line_pattern, text) + \n",
    "            re.findall(staff_present_pattern, text) +\n",
    "            re.findall(date_line_pattern, text)\n",
    "        )\n",
    "        for line in sensitive_lines:\n",
    "            found = page.search_for(line) or []\n",
    "            for rect in found:\n",
    "                page.add_redact_annot(rect, fill=(0, 0, 0))\n",
    "\n",
    "        for label, pattern in patterns.items():\n",
    "            matches = re.findall(pattern, text)\n",
    "            for match in matches:\n",
    "                found = page.search_for(match) or []\n",
    "                for rect in found:\n",
    "                    page.add_redact_annot(rect, fill=(0, 0, 0))\n",
    "\n",
    "        # Apply all redactions\n",
    "        page.apply_redactions()\n",
    "\n",
    "    doc.save(output_pdf)\n",
    "    print(f\"Anonymized PDF saved as {output_pdf}\")"
   ]
  },
  {
   "cell_type": "code",
   "execution_count": 118,
   "id": "2397e533-b2c9-4210-b04e-3686b7038d29",
   "metadata": {},
   "outputs": [
    {
     "name": "stdout",
     "output_type": "stream",
     "text": [
      "Anonymized PDF saved as ./UP/Capstone/ahcm/ahcm_redacted/redacted_e14d25933774.pdf\n",
      "Anonymized PDF saved as ./UP/Capstone/ahcm/ahcm_redacted/redacted_e0f34e89bcb6.pdf\n",
      "Anonymized PDF saved as ./UP/Capstone/ahcm/ahcm_redacted/redacted_b0b025173dad.pdf\n",
      "Anonymized PDF saved as ./UP/Capstone/ahcm/ahcm_redacted/redacted_19a2b65f2005.pdf\n",
      "Anonymized PDF saved as ./UP/Capstone/ahcm/ahcm_redacted/redacted_fc16b67cf2c3.pdf\n",
      "Anonymized PDF saved as ./UP/Capstone/ahcm/ahcm_redacted/redacted_216266668847.pdf\n",
      "Anonymized PDF saved as ./UP/Capstone/ahcm/ahcm_redacted/redacted_f9b9fc557c40.pdf\n",
      "Anonymized PDF saved as ./UP/Capstone/ahcm/ahcm_redacted/redacted_df9d65c8a899.pdf\n",
      "Anonymized PDF saved as ./UP/Capstone/ahcm/ahcm_redacted/redacted_646e638b344c.pdf\n",
      "Anonymized PDF saved as ./UP/Capstone/ahcm/ahcm_redacted/redacted_aca9ae161017.pdf\n",
      "Anonymized PDF saved as ./UP/Capstone/ahcm/ahcm_redacted/redacted_9fbaba2f4646.pdf\n",
      "Anonymized PDF saved as ./UP/Capstone/ahcm/ahcm_redacted/redacted_ec9ae72bd102.pdf\n",
      "Anonymized PDF saved as ./UP/Capstone/ahcm/ahcm_redacted/redacted_ceaee0523400.pdf\n",
      "Anonymized PDF saved as ./UP/Capstone/ahcm/ahcm_redacted/redacted_6ebe69c5f8a8.pdf\n",
      "Anonymized PDF saved as ./UP/Capstone/ahcm/ahcm_redacted/redacted_a31e7df9c8ed.pdf\n",
      "Anonymized PDF saved as ./UP/Capstone/ahcm/ahcm_redacted/redacted_01cb6dae438c.pdf\n",
      "Anonymized PDF saved as ./UP/Capstone/ahcm/ahcm_redacted/redacted_6fc48ee38a54.pdf\n",
      "Anonymized PDF saved as ./UP/Capstone/ahcm/ahcm_redacted/redacted_5c5158c5a7d2.pdf\n",
      "Anonymized PDF saved as ./UP/Capstone/ahcm/ahcm_redacted/redacted_70ea1972e7f9.pdf\n",
      "Anonymized PDF saved as ./UP/Capstone/ahcm/ahcm_redacted/redacted_ff837eea2798.pdf\n",
      "Anonymized PDF saved as ./UP/Capstone/ahcm/ahcm_redacted/redacted_57c0bd5d694d.pdf\n",
      "Anonymized PDF saved as ./UP/Capstone/ahcm/ahcm_redacted/redacted_d62c61917e2a.pdf\n",
      "Anonymized PDF saved as ./UP/Capstone/ahcm/ahcm_redacted/redacted_7917467f9754.pdf\n",
      "Anonymized PDF saved as ./UP/Capstone/ahcm/ahcm_redacted/redacted_98e234ba5e17.pdf\n",
      "Anonymized PDF saved as ./UP/Capstone/ahcm/ahcm_redacted/redacted_f6dd884b1bac.pdf\n",
      "Anonymized PDF saved as ./UP/Capstone/ahcm/ahcm_redacted/redacted_271e019eaca0.pdf\n"
     ]
    }
   ],
   "source": [
    "# Process all PDFs in the input folder\n",
    "for filename in os.listdir(input_folder):\n",
    "    if filename.startswith(\"ahcm_\") and filename.endswith(\".pdf\"):\n",
    "        unique_id = filename.replace(\"ahcm_\", \"\").replace(\".pdf\", \"\")\n",
    "        input_pdf = os.path.join(input_folder, filename)\n",
    "        output_pdf = os.path.join(output_folder, f\"redacted_{unique_id}.pdf\")\n",
    "\n",
    "        anonymize_pdf(input_pdf, output_pdf)"
   ]
  },
  {
   "cell_type": "code",
   "execution_count": null,
   "id": "442e0572-bc87-43ae-96d3-983e869c9a9c",
   "metadata": {},
   "outputs": [],
   "source": []
  },
  {
   "cell_type": "code",
   "execution_count": null,
   "id": "58f2c72e-5da3-46e5-8e20-0d37b655a9f6",
   "metadata": {},
   "outputs": [],
   "source": []
  }
 ],
 "metadata": {
  "kernelspec": {
   "display_name": "Python 3 (ipykernel)",
   "language": "python",
   "name": "python3"
  },
  "language_info": {
   "codemirror_mode": {
    "name": "ipython",
    "version": 3
   },
   "file_extension": ".py",
   "mimetype": "text/x-python",
   "name": "python",
   "nbconvert_exporter": "python",
   "pygments_lexer": "ipython3",
   "version": "3.10.0"
  }
 },
 "nbformat": 4,
 "nbformat_minor": 5
}
