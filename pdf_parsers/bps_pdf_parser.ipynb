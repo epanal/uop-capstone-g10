{
 "cells": [
  {
   "cell_type": "code",
   "execution_count": 1,
   "id": "ea41d60c-eb8a-47d9-88b8-1f72674b590b",
   "metadata": {},
   "outputs": [],
   "source": [
    "import fitz\n",
    "import re\n",
    "import os\n",
    "import PyPDF2\n",
    "import pandas as pd\n",
    "from datetime import datetime\n",
    "import logging"
   ]
  },
  {
   "cell_type": "code",
   "execution_count": 2,
   "id": "481b6da5-b7d3-474c-9ad3-5f6f94c4550c",
   "metadata": {},
   "outputs": [],
   "source": [
    "# Set up basic logging\n",
    "logging.basicConfig(level=logging.DEBUG)"
   ]
  },
  {
   "cell_type": "code",
   "execution_count": 3,
   "id": "236cbc30-221a-44aa-b5f8-450f7a941cea",
   "metadata": {},
   "outputs": [],
   "source": [
    "# Define paths\n",
    "input_folder = \"./bps/raw_bps_pdf\"\n",
    "#output_folder = \"./bps/bps_redacted\""
   ]
  },
  {
   "cell_type": "code",
   "execution_count": 4,
   "id": "92c06309-5929-4b79-9eee-2508ff4a2ce2",
   "metadata": {},
   "outputs": [],
   "source": [
    "# Define the start and end phrases for capturing the motivations\n",
    "start_phrase = \"X. TREATMENT ACCEPTANCE / RESISTANCE DIMENSION\"\n",
    "end_phrase = \"3. Relapse/Continued Use Potential\"\n",
    "\n",
    "# Initialize an empty list to store results\n",
    "data = []\n",
    "\n",
    "# column names for the biopsychosocial scores\n",
    "columns = [\n",
    "    \"group_identifier\", \"bps_problems\", \"bps_medical\", \"bps_employment\", \"bps_peer_support\",\n",
    "    \"bps_drug_alcohol\", \"bps_legal\", \"bps_family\", \"bps_mh\", \"bps_total\"\n",
    "]"
   ]
  },
  {
   "cell_type": "code",
   "execution_count": 5,
   "id": "4b6ed012-f0c9-4a0d-8ba2-3de29d1e110e",
   "metadata": {},
   "outputs": [],
   "source": [
    "# extract the date after \"Biopsychosocial Assessment\"\n",
    "def extract_assessment_date(text):\n",
    "    # Look for the phrase and try to extract the date\n",
    "    match = re.search(r\"Biopsychosocial Assessment\\s*(\\d{1,2}/\\d{1,2}/\\d{4})\", text)\n",
    "    if match:\n",
    "        return match.group(1)\n",
    "    else:\n",
    "        return None"
   ]
  },
  {
   "cell_type": "code",
   "execution_count": 6,
   "id": "80b74335-c6aa-4b6f-8cbf-0215a5239fdc",
   "metadata": {},
   "outputs": [],
   "source": [
    "# extact date of birth after \"Birthdate:\"\n",
    "def extract_birthdate(text):\n",
    "    match = re.search(r\"Birthdate:\\s*(\\d{1,2}/\\d{1,2}/\\d{4})\", text)\n",
    "    if match:\n",
    "        return match.group(1)\n",
    "    else:\n",
    "        return None"
   ]
  },
  {
   "cell_type": "code",
   "execution_count": 7,
   "id": "27aa4388-56c7-47bd-ba07-ab88eb4f76d5",
   "metadata": {},
   "outputs": [],
   "source": [
    "# Function to calculate age from birthdate and assessment date\n",
    "def calculate_age(assessment_date, birthdate):\n",
    "    # Convert both dates to datetime objects\n",
    "    assessment_date = datetime.strptime(assessment_date, \"%m/%d/%Y\")\n",
    "    birthdate = datetime.strptime(birthdate, \"%m/%d/%Y\")\n",
    "    \n",
    "    # Calculate the difference in years\n",
    "    age = (assessment_date - birthdate).days // 365\n",
    "    return age"
   ]
  },
  {
   "cell_type": "code",
   "execution_count": 8,
   "id": "a447c467-9f16-4255-a286-bbcd4f775942",
   "metadata": {},
   "outputs": [],
   "source": [
    "# Function to extract external and internal motivations from a PDF\n",
    "def extract_motivations(pdf_path):\n",
    "    doc = fitz.open(pdf_path)\n",
    "    extracted_text = \"\"\n",
    "\n",
    "    # Loop through all pages\n",
    "    for page_num in range(doc.page_count):\n",
    "        page = doc.load_page(page_num)\n",
    "        text = page.get_text(\"text\")\n",
    "\n",
    "        # Find the start and end phrase positions\n",
    "        if start_phrase in text and end_phrase in text:\n",
    "            start_index = text.find(start_phrase) + len(start_phrase)\n",
    "            end_index = text.find(end_phrase)\n",
    "            \n",
    "            # Extract the text in between\n",
    "            extracted_text = text[start_index:end_index].strip()\n",
    "            break\n",
    "\n",
    "    # Split the extracted text into lines\n",
    "    lines = extracted_text.splitlines()\n",
    "\n",
    "    # Initialize external and internal motivation variables\n",
    "    external_motivation = None\n",
    "    internal_motivation = None\n",
    "\n",
    "    # We will look at the first two lines\n",
    "    if len(lines) > 0:\n",
    "        external_motivation = lines[0].strip()  # First line\n",
    "    if len(lines) > 1:\n",
    "        internal_motivation = lines[1].strip()  # Second line\n",
    "\n",
    "    return external_motivation, internal_motivation"
   ]
  },
  {
   "cell_type": "code",
   "execution_count": 9,
   "id": "7acf7ff9-779c-444c-b41f-cefbe758c24c",
   "metadata": {},
   "outputs": [],
   "source": [
    "# Function to extract the drug craving score following the specific text\n",
    "def extract_drug_craving_score(text):\n",
    "    # Search for the specific phrase \"(Range 0-10, 10 being highest)\" followed by the number (with or without /10)\n",
    "    match = re.search(r'\\(Range 0-10, 10 being highest\\)\\s*(\\d+)(?:/10)?', text)\n",
    "    if match:\n",
    "        # Return the captured number\n",
    "        return int(match.group(1))\n",
    "    else:\n",
    "        return None"
   ]
  },
  {
   "cell_type": "code",
   "execution_count": 10,
   "id": "b4e03bb5-4543-4e7b-bc89-5e717663060f",
   "metadata": {},
   "outputs": [],
   "source": [
    "# Function to extract scores from the text\n",
    "def extract_bps_scores(text):\n",
    "    # Regex to find numbers inside parentheses (captures the first 9 scores)\n",
    "    pattern = r\"\\((\\d+)\\)\"  # Match numbers inside parentheses\n",
    "    matches = re.findall(pattern, text)\n",
    "\n",
    "    # Debugging: Check the found matches\n",
    "    #logging.debug(f\"Found matches: {matches}\")\n",
    "\n",
    "    # Ensure we have exactly 9 valid matches (ignore extra ones like the total score)\n",
    "    if len(matches) >= 9:\n",
    "        scores = {columns[i+1]: int(matches[i]) for i in range(9)}  # First 9 matches map to columns\n",
    "        scores[\"bps_total\"] = int(matches[-1])  # The last one is the total score\n",
    "        return scores\n",
    "    else:\n",
    "        logging.warning(f\"Unexpected number of matches: {len(matches)}. Expected 9.\")\n",
    "        return {col: None for col in columns[1:]}  # Return None for each column if not 9 matches"
   ]
  },
  {
   "cell_type": "code",
   "execution_count": 11,
   "id": "e1717c2a-abc7-4051-8270-0bcc075a0ac4",
   "metadata": {},
   "outputs": [],
   "source": [
    "# Function to extract the \"List Drugs of Choice\" answer\n",
    "def extract_drugs_of_choice(text):\n",
    "    # Look for the phrase \"List Drugs of Choice:\" and extract everything that follows it\n",
    "    match = re.search(r\"List Drugs of Choice:\\s*(.*?)(?=\\n\\S|$)\", text, re.DOTALL)\n",
    "    if match:\n",
    "        return match.group(1).strip()\n",
    "    else:\n",
    "        return None"
   ]
  },
  {
   "cell_type": "code",
   "execution_count": 12,
   "id": "fb2170ba-ec20-4e55-ac18-c4dd9fbcc145",
   "metadata": {},
   "outputs": [],
   "source": [
    "# Function to extract the number of previous treatments\n",
    "def extract_num_prev_treatments(text):\n",
    "    # Search for the phrase \"Number of Times:\" followed by a number (with or without text after it)\n",
    "    match = re.search(r'Number of Times:\\s*(\\d+)', text)\n",
    "    if match:\n",
    "        return int(match.group(1))  # Convert the extracted number to an integer\n",
    "    else:\n",
    "        return None"
   ]
  },
  {
   "cell_type": "code",
   "execution_count": 13,
   "id": "0f1dc14d-7e73-4414-b344-515f62865520",
   "metadata": {},
   "outputs": [],
   "source": [
    "# Iterate through all files in the folder\n",
    "for filename in os.listdir(input_folder):\n",
    "    if filename.endswith(\".pdf\"):\n",
    "        # Extract group identifier from filename (format is bps_xxxxxx.pdf)\n",
    "        group_identifier = filename.split('_')[1].replace('.pdf', '')\n",
    "\n",
    "        # PDF file path\n",
    "        pdf_path = os.path.join(input_folder, filename)\n",
    "\n",
    "        # external and internal motivations\n",
    "        ext_motivation, int_motivation = extract_motivations(pdf_path)\n",
    "\n",
    "        # text from the PDF for score extraction\n",
    "        doc = fitz.open(pdf_path)\n",
    "        extracted_text = \"\"\n",
    "        for page_num in range(doc.page_count):\n",
    "            page = doc.load_page(page_num)\n",
    "            extracted_text += page.get_text(\"text\")\n",
    "\n",
    "        # Extract scores from the text\n",
    "        bps_scores = extract_bps_scores(extracted_text)\n",
    "\n",
    "        # Extract the assessment date/birthdate\n",
    "        assessment_date = extract_assessment_date(extracted_text)\n",
    "        birthdate = extract_birthdate(extracted_text)\n",
    "\n",
    "        # Calculate the age if both dates are available\n",
    "        if assessment_date and birthdate:\n",
    "            age = calculate_age(assessment_date, birthdate)\n",
    "        else:\n",
    "            age = None\n",
    "\n",
    "        # Extract the drugs of choice\n",
    "        drugs_of_choice = extract_drugs_of_choice(extracted_text)\n",
    "\n",
    "        #drug craving score\n",
    "        drug_craving_score = extract_drug_craving_score(extracted_text)\n",
    "\n",
    "        # num of treatments\n",
    "        num_prev_treatments = extract_num_prev_treatments(extracted_text)\n",
    "\n",
    "        # Combine the extracted data into a single dictionary\n",
    "        result = {\n",
    "            \"group_identifier\": group_identifier,\n",
    "            \"assmt_dt\": assessment_date,\n",
    "            \"birthdate\": birthdate,\n",
    "            \"age\": age,\n",
    "            \"ext_motivation\": ext_motivation,\n",
    "            \"int_motivation\": int_motivation,\n",
    "            \"num_prev_treatments\": num_prev_treatments,\n",
    "            \"drugs_of_choice\": drugs_of_choice,\n",
    "            \"drug_craving_score\": drug_craving_score\n",
    "            \n",
    "        }\n",
    "        result.update(bps_scores)  # Add the scores to the result\n",
    "\n",
    "        # Append the result to the data list\n",
    "        data.append(result)"
   ]
  },
  {
   "cell_type": "code",
   "execution_count": 14,
   "id": "c1925a58-a813-4d49-88f9-2ee490f53ccd",
   "metadata": {},
   "outputs": [],
   "source": [
    "df = pd.DataFrame(data)"
   ]
  },
  {
   "cell_type": "code",
   "execution_count": 15,
   "id": "ac23dc45-13bc-4159-a238-fb6dfb864f23",
   "metadata": {},
   "outputs": [
    {
     "data": {
      "text/plain": [
       "'/Users/ethanpanal/Documents/UP/Capstone'"
      ]
     },
     "execution_count": 15,
     "metadata": {},
     "output_type": "execute_result"
    }
   ],
   "source": [
    "pwd"
   ]
  },
  {
   "cell_type": "code",
   "execution_count": 16,
   "id": "af701128-5f72-44c2-9996-d999a1a40f28",
   "metadata": {},
   "outputs": [],
   "source": [
    "df.to_csv('bps_anonimized.csv')"
   ]
  },
  {
   "cell_type": "code",
   "execution_count": null,
   "id": "3ad2032b-c6eb-4d86-a20d-9701c9c02c21",
   "metadata": {},
   "outputs": [],
   "source": []
  }
 ],
 "metadata": {
  "kernelspec": {
   "display_name": "Python 3 (ipykernel)",
   "language": "python",
   "name": "python3"
  },
  "language_info": {
   "codemirror_mode": {
    "name": "ipython",
    "version": 3
   },
   "file_extension": ".py",
   "mimetype": "text/x-python",
   "name": "python",
   "nbconvert_exporter": "python",
   "pygments_lexer": "ipython3",
   "version": "3.10.0"
  }
 },
 "nbformat": 4,
 "nbformat_minor": 5
}
