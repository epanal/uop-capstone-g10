{
 "cells": [
  {
   "cell_type": "code",
   "execution_count": 1,
   "id": "ea41d60c-eb8a-47d9-88b8-1f72674b590b",
   "metadata": {},
   "outputs": [],
   "source": [
    "import fitz\n",
    "import re\n",
    "import os\n",
    "import PyPDF2\n",
    "import pandas as pd\n",
    "import pdfplumber\n",
    "from datetime import datetime\n"
   ]
  },
  {
   "cell_type": "code",
   "execution_count": 2,
   "id": "236cbc30-221a-44aa-b5f8-450f7a941cea",
   "metadata": {},
   "outputs": [],
   "source": [
    "# Define paths\n",
    "input_folder = \"./bps/raw_bps_pdf\"\n",
    "output_folder = \"./bps/bps_redacted\""
   ]
  },
  {
   "cell_type": "code",
   "execution_count": 3,
   "id": "2fdd1853-02d0-4db1-967c-7fb4994c3909",
   "metadata": {},
   "outputs": [],
   "source": [
    "data = []"
   ]
  },
  {
   "cell_type": "code",
   "execution_count": 4,
   "id": "0f1dc14d-7e73-4414-b344-515f62865520",
   "metadata": {},
   "outputs": [],
   "source": [
    "# Iterate through all files in the folder\n",
    "for filename in os.listdir(input_folder):\n",
    "    if filename.endswith(\".pdf\"):\n",
    "        group_identifier = filename.split('_')[1].replace('.pdf', '')\n",
    "        pdf_path = os.path.join(input_folder, filename)\n",
    "\n",
    "        # Extract full text for score extraction (with PyMuPDF)\n",
    "        doc = fitz.open(pdf_path)\n",
    "        extracted_text = \"\"\n",
    "        for page_num in range(doc.page_count):\n",
    "            page = doc.load_page(page_num)\n",
    "            extracted_text += page.get_text(\"text\")\n",
    "\n",
    "        # Initialize placeholders\n",
    "        found_substance_section = False\n",
    "        substance_tables = []\n",
    "        \n",
    "        # Search for section and extract tables using pdfplumber\n",
    "        with pdfplumber.open(pdf_path) as pdf:\n",
    "            for i, page in enumerate(pdf.pages):\n",
    "                text = page.extract_text()\n",
    "                \n",
    "                # If section title is found\n",
    "                if not found_substance_section and \"IV. SUBSTANCE USE HISTORY & ASSESSMENT\" in text:\n",
    "                    found_substance_section = True\n",
    "        \n",
    "                # Once we've found the section, extract tables\n",
    "                if found_substance_section:\n",
    "                    table = page.extract_table()\n",
    "                    if table:\n",
    "                        substance_tables.append(table)\n",
    "                    \n",
    "                    # Optional: break if you detect the next section heading\n",
    "                    if \"V.\" in text:  # crude way to stop at next main section\n",
    "                        break\n",
    "\n",
    "        # Flatten if multiple tables were found\n",
    "        flat_table = []\n",
    "        for table in substance_tables:\n",
    "            flat_table.extend(table)\n",
    "        # Combine extracted data\n",
    "        result = {\n",
    "            \"group_identifier\": group_identifier,\n",
    "            \"found_substance_section\": found_substance_section,\n",
    "            \"substance_table\": flat_table if flat_table else None,\n",
    "        }\n",
    "\n",
    "        data.append(result)"
   ]
  },
  {
   "cell_type": "code",
   "execution_count": 5,
   "id": "1bb2fe3c-9ba2-4545-93f2-7046c08d6ade",
   "metadata": {},
   "outputs": [],
   "source": [
    "df = pd.DataFrame(data)"
   ]
  },
  {
   "cell_type": "code",
   "execution_count": 6,
   "id": "4550249d-f6a4-4418-8530-149d06971515",
   "metadata": {},
   "outputs": [],
   "source": [
    "# Initialize a list to store the flattened data\n",
    "flattened_data = []"
   ]
  },
  {
   "cell_type": "code",
   "execution_count": 7,
   "id": "19fa9947-5592-471d-81d9-67f951f8864b",
   "metadata": {},
   "outputs": [],
   "source": [
    "# Iterate through all the rows in the DataFrame\n",
    "for index, row in df.iterrows():\n",
    "    group_identifier = row['group_identifier']\n",
    "    substance_table = row['substance_table']\n",
    "    \n",
    "    # The header is the first row of the table\n",
    "    if substance_table:\n",
    "        header = substance_table[0]  # Get the header\n",
    "        \n",
    "        # Iterate through the substances in the table (skip the header)\n",
    "        for substance_row in substance_table[1:]:\n",
    "            # Create a dictionary for each substance row with the corresponding group_identifier\n",
    "            substance_data = {\n",
    "                \"group_identifier\": group_identifier,\n",
    "                \"substance\": substance_row[0],  # First column is the substance name\n",
    "                \"first_used\": substance_row[1],\n",
    "                \"last_used\": substance_row[2],\n",
    "                \"frequency_duration\": substance_row[3],\n",
    "                \"amount\": substance_row[4],\n",
    "                \"method\": substance_row[5],\n",
    "                \"pattern_of_use\": substance_row[6]\n",
    "            }\n",
    "            \n",
    "            # Add this substance data to the flattened list\n",
    "            flattened_data.append(substance_data)\n",
    "\n",
    "# df of flattened data\n",
    "flattened_df = pd.DataFrame(flattened_data)"
   ]
  },
  {
   "cell_type": "code",
   "execution_count": 8,
   "id": "e05b3d79-f9de-4706-9137-a65376176df8",
   "metadata": {},
   "outputs": [],
   "source": [
    "# 'use_flag' based on whether 'first_used' or 'last_used' is not blank\n",
    "flattened_df['use_flag'] = (\n",
    "    ((flattened_df['first_used'].notna() & (flattened_df['first_used'] != 'NA') & (flattened_df['first_used'].str.strip() != '')) |\n",
    "     (flattened_df['last_used'].notna() & (flattened_df['last_used'] != 'NA') & (flattened_df['last_used'].str.strip() != '')))\n",
    "    .astype(int)\n",
    ")"
   ]
  },
  {
   "cell_type": "code",
   "execution_count": 9,
   "id": "5eeb81d3-8da9-479d-9c07-39b4f78ad7c2",
   "metadata": {},
   "outputs": [],
   "source": [
    "sparse_df = flattened_df[['group_identifier','substance','use_flag','pattern_of_use']]"
   ]
  },
  {
   "cell_type": "code",
   "execution_count": 10,
   "id": "513934bd-1703-4b25-a1ae-a6ee6a4f4389",
   "metadata": {},
   "outputs": [
    {
     "data": {
      "text/plain": [
       "pattern_of_use\n",
       "                              393\n",
       "continued                      18\n",
       "experimental                   13\n",
       "episodic                       12\n",
       "binge                          10\n",
       "daily                           8\n",
       "socially                        5\n",
       "social                          3\n",
       "na                              2\n",
       "continual                       2\n",
       "Episodic/binge                  1\n",
       "Continued                       1\n",
       "Episodic or binge               1\n",
       "prescribed prn                  1\n",
       "recreationally                  1\n",
       "for surgery                     1\n",
       "an episode                      1\n",
       "binge, continued                1\n",
       "mentally to reduce anxiety      1\n",
       "mental and emotional            1\n",
       "once in a while                 1\n",
       "N/A                             1\n",
       "Binges                          1\n",
       "ocationally                     1\n",
       "trail                           1\n",
       "Binge                           1\n",
       "recreational                    1\n",
       "contunued                       1\n",
       "NA                              1\n",
       "Binge episodes                  1\n",
       "as prescribed for sleep         1\n",
       "binge/episodic                  1\n",
       "Name: count, dtype: int64"
      ]
     },
     "execution_count": 10,
     "metadata": {},
     "output_type": "execute_result"
    }
   ],
   "source": [
    "sparse_df['pattern_of_use'].value_counts()"
   ]
  },
  {
   "cell_type": "code",
   "execution_count": 11,
   "id": "c3e323b9-3442-4f74-bb10-aa2145016138",
   "metadata": {
    "scrolled": true
   },
   "outputs": [],
   "source": [
    "# mapping of patterns to consolidated categories\n",
    "pattern_mapping = {\n",
    "    'continued': 'Continued',\n",
    "    'Continued': 'Continued',\n",
    "    'contunued': 'Continued',\n",
    "    'Binge, continued': 'Binge/Continued',\n",
    "    'Binge episodes': 'Binge/Episodic',\n",
    "    'binge/episodic': 'Binge/Episodic',\n",
    "    'episodic': 'Binge/Episodic',\n",
    "    'Episodic/binge': 'Binge/Episodic',\n",
    "    'Episodic or binge': 'Binge/Episodic',\n",
    "    'Binge': 'Binge/Episodic',\n",
    "    'Binges': 'Binge/Episodic',\n",
    "    'experimental': 'Experimental',\n",
    "    'social': 'Experimental',\n",
    "    'socially': 'Experimental',\n",
    "    'recreational': 'Experimental',\n",
    "    'recreationally': 'Experimental',\n",
    "    'socially': 'Experimental',\n",
    "    'daily': 'Daily',\n",
    "    'na': 'NA',\n",
    "    'NA': 'NA',\n",
    "    'N/A': 'NA',\n",
    "    'prescribed prn': 'Prescribed',\n",
    "    'as prescribed for sleep': 'Prescribed',\n",
    "    'for surgery': 'Prescribed',\n",
    "    'once in a while': 'Experimental',\n",
    "    'mental and emotional': 'Prescribed',\n",
    "    'ocationally': 'Occasionally',  # typo\n",
    "    'trail': 'Experimental'  # typo\n",
    "}"
   ]
  },
  {
   "cell_type": "code",
   "execution_count": 12,
   "id": "f66a8acc-4420-4de8-b8b8-4e296e41c390",
   "metadata": {},
   "outputs": [],
   "source": [
    "# mapping to the 'pattern_of_use' column\n",
    "sparse_df = sparse_df.copy()\n",
    "\n",
    "# Now you can safely apply the mapping without the warning\n",
    "sparse_df.loc[:, 'pattern_of_use_consolidated'] = sparse_df['pattern_of_use'].map(pattern_mapping).fillna(sparse_df['pattern_of_use'])"
   ]
  },
  {
   "cell_type": "code",
   "execution_count": 13,
   "id": "4b61ff1f-1759-4ab8-b78f-be22df3465b1",
   "metadata": {},
   "outputs": [],
   "source": [
    "sparse_df.to_csv('patient_substance_history.csv')"
   ]
  },
  {
   "cell_type": "code",
   "execution_count": null,
   "id": "d2d982b5-0c9f-483c-8737-3f7f10f13c36",
   "metadata": {},
   "outputs": [],
   "source": []
  },
  {
   "cell_type": "code",
   "execution_count": null,
   "id": "3dad5f18-d521-4cef-8b8a-0ff274390ee1",
   "metadata": {},
   "outputs": [],
   "source": []
  }
 ],
 "metadata": {
  "kernelspec": {
   "display_name": "Python 3 (ipykernel)",
   "language": "python",
   "name": "python3"
  },
  "language_info": {
   "codemirror_mode": {
    "name": "ipython",
    "version": 3
   },
   "file_extension": ".py",
   "mimetype": "text/x-python",
   "name": "python",
   "nbconvert_exporter": "python",
   "pygments_lexer": "ipython3",
   "version": "3.10.0"
  }
 },
 "nbformat": 4,
 "nbformat_minor": 5
}
