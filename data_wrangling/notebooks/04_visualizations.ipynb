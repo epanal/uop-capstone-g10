{
 "cells": [
  {
   "cell_type": "code",
   "execution_count": null,
   "id": "975e3e70",
   "metadata": {},
   "outputs": [],
   "source": [
    "# imports\n",
    "import pandas as pd\n",
    "import numpy as np\n",
    "import matplotlib.pyplot as plt\n",
    "import seaborn as sns\n",
    "import plotly.express as px\n",
    "import plotly.graph_objects as go\n",
    "import scipy.stats as stats\n",
    "from scipy.stats import shapiro\n",
    "\n",
    "import warnings\n",
    "warnings.filterwarnings('ignore')"
   ]
  },
  {
   "cell_type": "code",
   "execution_count": null,
   "id": "d87d1396",
   "metadata": {},
   "outputs": [],
   "source": [
    "df = pd.read_csv('/Users/bk/Desktop/exist_centers/data/stat_tests_data.csv')"
   ]
  },
  {
   "cell_type": "markdown",
   "id": "a48fec92",
   "metadata": {},
   "source": [
    "## 1. Pie Charts"
   ]
  },
  {
   "cell_type": "code",
   "execution_count": null,
   "id": "599e45f0",
   "metadata": {},
   "outputs": [],
   "source": [
    "df['program'].value_counts()"
   ]
  },
  {
   "cell_type": "code",
   "execution_count": null,
   "id": "177f0675",
   "metadata": {},
   "outputs": [],
   "source": [
    "df['discharge_type'].value_counts()"
   ]
  },
  {
   "cell_type": "code",
   "execution_count": null,
   "id": "ff6845a6",
   "metadata": {},
   "outputs": [],
   "source": [
    "# program type pie chart\n",
    "fig = px.pie(df, names='program', title='Breakdown of Program Types', hole=0.3)\n",
    "fig.show();"
   ]
  },
  {
   "cell_type": "code",
   "execution_count": null,
   "id": "e9ecfbf8",
   "metadata": {},
   "outputs": [],
   "source": [
    "# discharge type pie chart\n",
    "fig = px.pie(df, names='discharge_type', title='Breakdown of Discharge Types', hole=0.3)\n",
    "fig.show();"
   ]
  },
  {
   "cell_type": "markdown",
   "id": "83253522",
   "metadata": {},
   "source": [
    "## 2. Boxplots"
   ]
  },
  {
   "cell_type": "markdown",
   "id": "d8fce2bc",
   "metadata": {},
   "source": [
    "### Assessments vs Program Type"
   ]
  },
  {
   "cell_type": "code",
   "execution_count": null,
   "id": "8fb5694c",
   "metadata": {
    "scrolled": false
   },
   "outputs": [],
   "source": [
    "# list of assesment columns\n",
    "score_cols = ['WHO', 'GAD', 'PHQ', 'PCL', 'DERS']\n",
    "\n",
    "# boxplots for each assessment by program\n",
    "for col in score_cols:\n",
    "    fig = px.box(df, x='program', y=col, color='program',\n",
    "                 title=f'{col} vs Program Type',\n",
    "                 labels={'program':'program', col:col})\n",
    "    fig.update_layout(showlegend=False) \n",
    "    fig.show();"
   ]
  },
  {
   "cell_type": "markdown",
   "id": "025280f8",
   "metadata": {},
   "source": [
    "### Assessments vs Discharge Type"
   ]
  },
  {
   "cell_type": "code",
   "execution_count": null,
   "id": "91c5bce2",
   "metadata": {
    "scrolled": false
   },
   "outputs": [],
   "source": [
    "# list of assesment columns\n",
    "score_cols = ['WHO', 'GAD', 'PHQ', 'PCL', 'DERS']\n",
    "\n",
    "# boxplots for each assessment by discharge type\n",
    "for col in score_cols:\n",
    "    fig = px.box(df, x='discharge_type', y=col, color='discharge_type',\n",
    "                 title=f'{col} vs Discharge Type',\n",
    "                 labels={'discharge_type':'discharge type', col:col})\n",
    "    fig.update_layout(showlegend=False)  \n",
    "    fig.show();"
   ]
  },
  {
   "cell_type": "code",
   "execution_count": null,
   "id": "71703fcf",
   "metadata": {},
   "outputs": [],
   "source": []
  }
 ],
 "metadata": {
  "kernelspec": {
   "display_name": "Python 3 (ipykernel)",
   "language": "python",
   "name": "python3"
  },
  "language_info": {
   "codemirror_mode": {
    "name": "ipython",
    "version": 3
   },
   "file_extension": ".py",
   "mimetype": "text/x-python",
   "name": "python",
   "nbconvert_exporter": "python",
   "pygments_lexer": "ipython3",
   "version": "3.9.13"
  }
 },
 "nbformat": 4,
 "nbformat_minor": 5
}
