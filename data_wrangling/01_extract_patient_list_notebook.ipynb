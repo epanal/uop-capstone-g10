{
 "cells": [
  {
   "cell_type": "code",
   "execution_count": null,
   "id": "71742ec9",
   "metadata": {},
   "outputs": [],
   "source": [
    "# imports\n",
    "import pandas as pd\n",
    "import numpy as np\n",
    "import os\n",
    "import hashlib"
   ]
  },
  {
   "cell_type": "markdown",
   "id": "22a7e621",
   "metadata": {},
   "source": [
    "## 1. Extract Patient List"
   ]
  },
  {
   "cell_type": "markdown",
   "id": "bd541cda",
   "metadata": {},
   "source": [
    "**Note:** The final dataframe will contain a list of patients who have completed atleast 1 industry standard assessments *(WHO, GAD, PHQ, PTSD, DERS, DERS2)*."
   ]
  },
  {
   "cell_type": "code",
   "execution_count": null,
   "id": "e33c13ef",
   "metadata": {},
   "outputs": [],
   "source": [
    "# aggregated reports folder path\n",
    "folder_path = '/Users/bk/Desktop/exist_centers/aggregated_reports'  \n",
    "\n",
    "# list of file names\n",
    "csv_files = ['who_aggregated.csv', 'gad_aggregated.csv', 'phq_aggregated.csv', \n",
    "             'ptsd_aggregated.csv','ders_aggregated.csv','ders2_aggregated.csv']\n",
    "\n",
    "# initialize emnpty list\n",
    "df_list = list()\n",
    "\n",
    "# extract patient names from each CSV\n",
    "for file in csv_files:\n",
    "    file_path = os.path.join(folder_path, file)  \n",
    "    df = pd.read_csv(file_path, usecols=['Patient'])\n",
    "    df_list.append(df)\n",
    "\n",
    "# merge data frames\n",
    "df_final = pd.concat(df_list, ignore_index=True)\n",
    "\n",
    "# remove duplicate names\n",
    "df_final = df_final.drop_duplicates()"
   ]
  },
  {
   "cell_type": "code",
   "execution_count": null,
   "id": "921c9c96",
   "metadata": {},
   "outputs": [],
   "source": [
    "df_final"
   ]
  },
  {
   "cell_type": "code",
   "execution_count": null,
   "id": "97987c04",
   "metadata": {},
   "outputs": [],
   "source": [
    "# extract first name, last name, patient ID\n",
    "df_final['first_name'] = df_final['Patient'].str.extract(r'^(\\w+)')[0].str.lower()\n",
    "df_final['last_name'] = df_final['Patient'].str.extract(r'^\\w+ (\\w+)')[0].str.lower()\n",
    "df_final['patient_ID'] = df_final['Patient'].str.extract(r'([A-Z]{2}-\\d{4}-\\d+)')"
   ]
  },
  {
   "cell_type": "code",
   "execution_count": null,
   "id": "d00817f9",
   "metadata": {},
   "outputs": [],
   "source": [
    "df_final"
   ]
  },
  {
   "cell_type": "code",
   "execution_count": null,
   "id": "56b102d8",
   "metadata": {},
   "outputs": [],
   "source": [
    "len(df_final)"
   ]
  },
  {
   "cell_type": "code",
   "execution_count": null,
   "id": "d300f70c",
   "metadata": {},
   "outputs": [],
   "source": [
    "len(df_final['patient_ID'].unique())"
   ]
  },
  {
   "cell_type": "code",
   "execution_count": null,
   "id": "b3b40708",
   "metadata": {},
   "outputs": [],
   "source": [
    "len(df_final['last_name'].unique())"
   ]
  },
  {
   "cell_type": "code",
   "execution_count": null,
   "id": "5545aba1",
   "metadata": {},
   "outputs": [],
   "source": [
    "len(df_final['first_name'].unique())"
   ]
  },
  {
   "cell_type": "code",
   "execution_count": null,
   "id": "19fe69c2",
   "metadata": {},
   "outputs": [],
   "source": [
    "df_final[df_final[['last_name']].duplicated(keep=False)].sort_values(by=['last_name'])"
   ]
  },
  {
   "cell_type": "code",
   "execution_count": null,
   "id": "daa99ba5",
   "metadata": {},
   "outputs": [],
   "source": [
    "df_final[df_final[['first_name','last_name']].duplicated(keep=False)].sort_values(by=['last_name'])"
   ]
  },
  {
   "cell_type": "code",
   "execution_count": null,
   "id": "c65e3de9",
   "metadata": {},
   "outputs": [],
   "source": [
    "len(df_final['patient_ID'].unique()) - len(df_final[df_final[['first_name','last_name']].duplicated()])"
   ]
  },
  {
   "cell_type": "code",
   "execution_count": null,
   "id": "69b02f7e",
   "metadata": {},
   "outputs": [],
   "source": [
    "# full_name: combine first and last name\n",
    "df_final[\"full_name\"] = df_final.first_name + \" \" + df_final.last_name"
   ]
  },
  {
   "cell_type": "code",
   "execution_count": null,
   "id": "250aa647",
   "metadata": {},
   "outputs": [],
   "source": [
    "df_final"
   ]
  },
  {
   "cell_type": "markdown",
   "id": "d66c17ac",
   "metadata": {},
   "source": [
    "## 2. Pseudonomization"
   ]
  },
  {
   "cell_type": "markdown",
   "id": "c6063c99",
   "metadata": {},
   "source": [
    "**Note:** Here, we will pseudonymize patients using their patient MR/ID # and give them an anonomyzed 12 character group_identifier."
   ]
  },
  {
   "cell_type": "code",
   "execution_count": null,
   "id": "58100462",
   "metadata": {},
   "outputs": [],
   "source": [
    "# pseudonymization \n",
    "SECRET_KEY = \"THIS IS A SECRET!\"\n",
    "\n",
    "name_mapping = dict()\n",
    "\n",
    "def pseudonymize_function(patient_id):\n",
    "    if patient_id not in name_mapping:\n",
    "        hash_input = (SECRET_KEY + patient_id).encode()\n",
    "        hashed_value = hashlib.sha256(hash_input).hexdigest()[:12]\n",
    "        name_mapping[patient_id] = f\"{hashed_value}\"\n",
    "    return name_mapping[patient_id]\n",
    "\n",
    "# apply pseudonymization function\n",
    "df_final['group_identifier'] = df_final['patient_ID'].apply(lambda x: pseudonymize_function(x) if pd.notnull(x) else None)"
   ]
  },
  {
   "cell_type": "code",
   "execution_count": null,
   "id": "22cdc409",
   "metadata": {
    "scrolled": true
   },
   "outputs": [],
   "source": [
    "df_final"
   ]
  },
  {
   "cell_type": "code",
   "execution_count": null,
   "id": "59731e05",
   "metadata": {},
   "outputs": [],
   "source": [
    "# # save full patient list CSV\n",
    "# df_final.to_csv('patient_list.csv', index=False)"
   ]
  },
  {
   "cell_type": "code",
   "execution_count": null,
   "id": "f52733d4",
   "metadata": {},
   "outputs": [],
   "source": []
  },
  {
   "cell_type": "markdown",
   "id": "5979c779",
   "metadata": {},
   "source": [
    "## 3. Handling Duplicate Patient Names"
   ]
  },
  {
   "cell_type": "markdown",
   "id": "3d81a950",
   "metadata": {},
   "source": [
    "**Note:** We identified 3 patients that have multiple patient MR/ID #'s. Going forward, we will use the initial group identifier which will assign a single unique ID for each patient. The resulting dataframe will allow us to correctly map each patient to their assessment in the data wrangling notebook."
   ]
  },
  {
   "cell_type": "code",
   "execution_count": null,
   "id": "8b67f2e7",
   "metadata": {},
   "outputs": [],
   "source": [
    "# df_final[df_final[['first_name','last_name']].duplicated(keep=False)].sort_values(by=['last_name'])"
   ]
  },
  {
   "cell_type": "code",
   "execution_count": null,
   "id": "5f862ecb",
   "metadata": {},
   "outputs": [],
   "source": [
    "# load patient_intake_anon.csv\n",
    "df_intake = pd.read_csv('/Users/bk/Desktop/exist_centers/data/patient_intake_anon.csv')"
   ]
  },
  {
   "cell_type": "code",
   "execution_count": null,
   "id": "916dd34b",
   "metadata": {},
   "outputs": [],
   "source": [
    "df_intake.head(10)"
   ]
  },
  {
   "cell_type": "code",
   "execution_count": null,
   "id": "83506259",
   "metadata": {},
   "outputs": [],
   "source": [
    "df_final[df_final[['first_name','last_name']].duplicated(keep=False)].sort_values(by=['last_name'])"
   ]
  },
  {
   "cell_type": "code",
   "execution_count": null,
   "id": "dedc202c",
   "metadata": {},
   "outputs": [],
   "source": [
    "df_intake.head()"
   ]
  },
  {
   "cell_type": "code",
   "execution_count": null,
   "id": "d131d2f8",
   "metadata": {},
   "outputs": [],
   "source": [
    "df_merge = df_final.merge(df_intake[['group_identifier','initial_group_identifier']], on='group_identifier', how='left')"
   ]
  },
  {
   "cell_type": "code",
   "execution_count": null,
   "id": "dd57a30d",
   "metadata": {},
   "outputs": [],
   "source": [
    "df_merge"
   ]
  },
  {
   "cell_type": "code",
   "execution_count": null,
   "id": "fd81c04f",
   "metadata": {},
   "outputs": [],
   "source": [
    "df_merge.loc[df_merge['group_identifier'] == '216266668847', 'initial_group_identifier'] = 216266668847"
   ]
  },
  {
   "cell_type": "code",
   "execution_count": null,
   "id": "0a09f166",
   "metadata": {},
   "outputs": [],
   "source": [
    "df_merge"
   ]
  },
  {
   "cell_type": "code",
   "execution_count": null,
   "id": "2e8ace2d",
   "metadata": {
    "scrolled": true
   },
   "outputs": [],
   "source": [
    "df_merge[df_merge.full_name.duplicated(keep=False)].sort_values(by='full_name')"
   ]
  },
  {
   "cell_type": "markdown",
   "id": "6a18b6ba",
   "metadata": {},
   "source": [
    "## 4. Save Final Patient List Data Frame"
   ]
  },
  {
   "cell_type": "code",
   "execution_count": null,
   "id": "965c951e",
   "metadata": {},
   "outputs": [],
   "source": [
    "# # save patient list version 2\n",
    "# df_merge.to_csv('patient_listv2.csv', index=False)"
   ]
  },
  {
   "cell_type": "code",
   "execution_count": null,
   "id": "4abc8494",
   "metadata": {},
   "outputs": [],
   "source": []
  }
 ],
 "metadata": {
  "kernelspec": {
   "display_name": "Python 3 (ipykernel)",
   "language": "python",
   "name": "python3"
  },
  "language_info": {
   "codemirror_mode": {
    "name": "ipython",
    "version": 3
   },
   "file_extension": ".py",
   "mimetype": "text/x-python",
   "name": "python",
   "nbconvert_exporter": "python",
   "pygments_lexer": "ipython3",
   "version": "3.9.13"
  }
 },
 "nbformat": 4,
 "nbformat_minor": 5
}
