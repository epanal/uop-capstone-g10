{
 "cells": [
  {
   "cell_type": "code",
   "execution_count": null,
   "id": "b8418e10",
   "metadata": {},
   "outputs": [],
   "source": [
    "# imports\n",
    "import pandas as pd\n",
    "import numpy as np\n",
    "import matplotlib.pyplot as plt\n",
    "import seaborn as sns\n",
    "import plotly.express as px\n",
    "import plotly.graph_objects as go\n",
    "from scipy.stats import shapiro"
   ]
  },
  {
   "cell_type": "code",
   "execution_count": null,
   "id": "830c46a5",
   "metadata": {},
   "outputs": [],
   "source": [
    "# load industry standard assessement CSV files\n",
    "df_who = pd.read_csv('/Users/bk/Desktop/exist_centers/merged_data/who_merged.csv')\n",
    "df_gad = pd.read_csv('/Users/bk/Desktop/exist_centers/merged_data/gad_merged.csv')\n",
    "df_phq = pd.read_csv('/Users/bk/Desktop/exist_centers/merged_data/phq_merged.csv')\n",
    "df_pcl = pd.read_csv('/Users/bk/Desktop/exist_centers/merged_data/ptsd_merged.csv')\n",
    "df_ders = pd.read_csv('/Users/bk/Desktop/exist_centers/merged_data/ders_merged.csv')\n",
    "df_ders2 = pd.read_csv('/Users/bk/Desktop/exist_centers/merged_data/ders2_merged.csv')\n",
    "\n",
    "# load patient intake CSV file\n",
    "df_intake = pd.read_csv('/Users/bk/Desktop/exist_centers/data/patient_intake_anon.csv')"
   ]
  },
  {
   "cell_type": "code",
   "execution_count": null,
   "id": "06c448c0",
   "metadata": {},
   "outputs": [],
   "source": [
    "def clean_dates(col):\n",
    "    return pd.to_datetime(col.astype(str).str.split(' ').str[0], format='mixed')\n",
    "\n",
    "# who\n",
    "df_who['assessment_date'] = clean_dates(df_who['assessment_date'])\n",
    "df_who['score'] = df_who.iloc[:, -5:].sum(axis=1)\n",
    "df_who.sort_values(['initial_group_identifier', 'assessment_date'], inplace=True)\n",
    "\n",
    "# gad\n",
    "df_gad['assessment_date'] = clean_dates(df_gad['assessment_date'])\n",
    "# combining duplicate column\n",
    "df_gad['5. * Being so restless that it is too hard to sit still'] = df_gad['5. * Being so restless that it is too hard to sit still'].combine_first(\n",
    "  df_gad['5. * Being so restless that it’s hard to sit still'])\n",
    "df_gad.drop('5. * Being so restless that it’s hard to sit still', inplace=True, axis=1)\n",
    "\n",
    "df_gad['score'] = df_gad.iloc[:, -7:].sum(axis=1)\n",
    "df_gad.sort_values(['initial_group_identifier', 'assessment_date'], inplace=True)\n",
    "\n",
    "# phq\n",
    "df_phq['assessment_date'] = clean_dates(df_phq['assessment_date'])\n",
    "df_phq['score'] = df_phq.iloc[:, -9:].sum(axis=1)\n",
    "df_phq.sort_values(['initial_group_identifier', 'assessment_date'], inplace=True)\n",
    "\n",
    "# pcl (ptsd)\n",
    "df_pcl['assessment_date'] = clean_dates(df_pcl['assessment_date'])\n",
    "df_pcl['score'] = df_pcl.iloc[:, -20:].sum(axis=1)\n",
    "df_pcl.sort_values(['initial_group_identifier', 'assessment_date'], inplace=True)\n",
    "\n",
    "# ders\n",
    "# some questions in DERS have reverse scoring\n",
    "reverse = [1,2,6,7,8,10,17,20,22,24,34]\n",
    "reversed_elements = [str(x) for x in reverse]\n",
    "df_ders['assessment_date'] = clean_dates(df_ders['assessment_date'])\n",
    "df_ders['score'] = df_ders.iloc[:, -36:].sum(axis=1)\n",
    "df_ders.sort_values(['initial_group_identifier', 'assessment_date'], inplace=True)\n",
    "\n",
    "# ders2\n",
    "# reverese scored questions in DERS2 files need to be reformatted\n",
    "reverse_cols2 = df_ders2.loc[:, df_ders2.columns.str.split('.').str[0].isin(reversed_elements)].columns\n",
    "mapping = {\"'-1\":1,\"'-2\":2,\"'-3\":3,\"'-4\":4,\"'-5\":5}\n",
    "df_ders2[reverse_cols2] = df_ders2[reverse_cols2].replace(mapping)\n",
    "df_ders2['score'] = df_ders2.iloc[:, -36:].sum(axis=1)\n",
    "df_ders2.sort_values(['initial_group_identifier', 'assessment_date'], inplace=True)\n",
    "\n",
    "# Combining DERS files\n",
    "df_ders2.columns=df_ders.columns\n",
    "df_ders = pd.concat([df_ders,df_ders2])\n",
    "df_ders.sort_values(['initial_group_identifier', 'assessment_date'], inplace=True)\n",
    "\n",
    "# convert all date columns to datetime\n",
    "for df in [df_who, df_gad, df_phq, df_pcl, df_ders]:\n",
    "    df['assessment_date'] = pd.to_datetime(df['assessment_date'], errors='coerce')\n",
    "    \n",
    "# Combine all assessment data to one dataframe\n",
    "cols = ['initial_group_identifier', 'assessment_date', 'score']\n",
    "assessments = ['WHO', 'GAD', 'PHQ', 'PCL', 'DERS']\n",
    "\n",
    "df_merge = df_who[cols].merge(df_gad[cols], how='outer', on=['initial_group_identifier', 'assessment_date'], suffixes=('_WHO', '_GAD'))\n",
    "df_merge = df_merge.merge(df_phq[cols], how='outer', on=['initial_group_identifier', 'assessment_date'], suffixes=(None, '_PHQ'))\n",
    "df_merge = df_merge.merge(df_pcl[cols], how='outer', on=['initial_group_identifier', 'assessment_date'], suffixes=(None, '_PCL'))\n",
    "df_merge = df_merge.merge(df_ders[cols], how='outer', on=['initial_group_identifier', 'assessment_date'], suffixes=(None, '_DERS'))\n",
    "df_merge.columns = ['initial_group_identifier', 'assessment_date'] + assessments\n",
    "\n",
    "scores = df_merge.groupby('initial_group_identifier')[assessments].mean()"
   ]
  },
  {
   "cell_type": "code",
   "execution_count": null,
   "id": "b8a2cb35",
   "metadata": {},
   "outputs": [],
   "source": [
    "scores"
   ]
  },
  {
   "cell_type": "code",
   "execution_count": null,
   "id": "3ea21c6f",
   "metadata": {},
   "outputs": [],
   "source": [
    "scores.reset_index(inplace=True)"
   ]
  },
  {
   "cell_type": "code",
   "execution_count": null,
   "id": "c91026de",
   "metadata": {},
   "outputs": [],
   "source": [
    "scores.describe()"
   ]
  },
  {
   "cell_type": "code",
   "execution_count": null,
   "id": "292c7516",
   "metadata": {},
   "outputs": [],
   "source": [
    "scores.shape"
   ]
  },
  {
   "cell_type": "markdown",
   "id": "16ba0c52",
   "metadata": {},
   "source": [
    "## Merge Patient Intake Fields"
   ]
  },
  {
   "cell_type": "code",
   "execution_count": null,
   "id": "fcd95d24",
   "metadata": {},
   "outputs": [],
   "source": [
    "df_intake.columns"
   ]
  },
  {
   "cell_type": "code",
   "execution_count": null,
   "id": "cb25b288",
   "metadata": {},
   "outputs": [],
   "source": [
    "drop_cols = ['group_identifier','mult_patient','admission_dt','discharge_dt','referrer']\n",
    "sub_intake = df_intake.drop(columns=drop_cols)\n",
    "\n",
    "sub_intake.head(10)"
   ]
  },
  {
   "cell_type": "code",
   "execution_count": null,
   "id": "6d06d078",
   "metadata": {},
   "outputs": [],
   "source": [
    "df = scores.merge(sub_intake, on='initial_group_identifier')\n",
    "df.head(10)"
   ]
  },
  {
   "cell_type": "code",
   "execution_count": null,
   "id": "e381a4d0",
   "metadata": {
    "scrolled": true
   },
   "outputs": [],
   "source": [
    "df['status'].unique()"
   ]
  },
  {
   "cell_type": "code",
   "execution_count": null,
   "id": "6a2fcbb3",
   "metadata": {},
   "outputs": [],
   "source": [
    "df['discharge_type'].unique()"
   ]
  },
  {
   "cell_type": "code",
   "execution_count": null,
   "id": "c7bddac9",
   "metadata": {},
   "outputs": [],
   "source": [
    "df.describe()"
   ]
  },
  {
   "cell_type": "markdown",
   "id": "ef983056",
   "metadata": {},
   "source": [
    "## Merge Program Type\n",
    "\n",
    "    - Located in clinical data report\n",
    "\n",
    "    - requires a few series of merges:\n",
    "        1. patient list and clinical data report\n",
    "        2. then to current dataframe"
   ]
  },
  {
   "cell_type": "code",
   "execution_count": null,
   "id": "74a52f7a",
   "metadata": {},
   "outputs": [],
   "source": [
    "# load full patient list CSV\n",
    "df_patient = pd.read_csv('/Users/bk/Desktop/exist_centers/data/patient_listv2.csv')\n",
    "\n",
    "# load clinical data report CSV \n",
    "df_clinical = pd.read_csv('/Users/bk/Desktop/exist_centers/data/clinical_data_report_2025.csv')"
   ]
  },
  {
   "cell_type": "code",
   "execution_count": null,
   "id": "d94e5982",
   "metadata": {},
   "outputs": [],
   "source": [
    "df_clinical.columns"
   ]
  },
  {
   "cell_type": "code",
   "execution_count": null,
   "id": "4237a07c",
   "metadata": {},
   "outputs": [],
   "source": [
    "df_clinical.head(5)"
   ]
  },
  {
   "cell_type": "code",
   "execution_count": null,
   "id": "6185e785",
   "metadata": {},
   "outputs": [],
   "source": [
    "df_clinical['Program'].unique()"
   ]
  },
  {
   "cell_type": "code",
   "execution_count": null,
   "id": "062af65e",
   "metadata": {},
   "outputs": [],
   "source": [
    "df_patient"
   ]
  },
  {
   "cell_type": "code",
   "execution_count": null,
   "id": "af91f8c7",
   "metadata": {},
   "outputs": [],
   "source": [
    "len(df_patient['patient_ID'].unique())"
   ]
  },
  {
   "cell_type": "code",
   "execution_count": null,
   "id": "dac618da",
   "metadata": {},
   "outputs": [],
   "source": [
    "len(df_clinical['MR'].unique())"
   ]
  },
  {
   "cell_type": "code",
   "execution_count": null,
   "id": "e1fd1dac",
   "metadata": {},
   "outputs": [],
   "source": [
    "sub_clinical = df_clinical[['First Name','MR','Program']]\n",
    "sub_clinical = sub_clinical.rename(columns={'MR':'patient_ID'})\n",
    "\n",
    "sub_clinical"
   ]
  },
  {
   "cell_type": "code",
   "execution_count": null,
   "id": "fb1a8e8e",
   "metadata": {},
   "outputs": [],
   "source": [
    "missing = df_patient[~df_patient['patient_ID'].isin(sub_clinical['patient_ID'])]"
   ]
  },
  {
   "cell_type": "code",
   "execution_count": null,
   "id": "6c84792e",
   "metadata": {
    "scrolled": true
   },
   "outputs": [],
   "source": [
    "missing"
   ]
  },
  {
   "cell_type": "markdown",
   "id": "53c0fe67",
   "metadata": {},
   "source": [
    "**Comment:** \n",
    "   - **Issue:** Newer/more recent patients in 2025 were not included in the clinical_data_report\n",
    "   - **Issue Resolved:** Compiled a new clinical_data_report.csv in Kipu by changing the data range to include the patients from 2025"
   ]
  },
  {
   "cell_type": "markdown",
   "id": "d4cf9f5a",
   "metadata": {},
   "source": [
    "## MERGE 1"
   ]
  },
  {
   "cell_type": "code",
   "execution_count": null,
   "id": "def678a4",
   "metadata": {},
   "outputs": [],
   "source": [
    "df_program = df_patient.merge(sub_clinical, on='patient_ID')"
   ]
  },
  {
   "cell_type": "code",
   "execution_count": null,
   "id": "58ba0ead",
   "metadata": {},
   "outputs": [],
   "source": [
    "df_program"
   ]
  },
  {
   "cell_type": "code",
   "execution_count": null,
   "id": "43a60234",
   "metadata": {},
   "outputs": [],
   "source": [
    "df"
   ]
  },
  {
   "cell_type": "markdown",
   "id": "92cdf1f1",
   "metadata": {},
   "source": [
    "## MERGE 2"
   ]
  },
  {
   "cell_type": "code",
   "execution_count": null,
   "id": "e9fa4333",
   "metadata": {},
   "outputs": [],
   "source": [
    "df = df.merge(df_program[['initial_group_identifier','Program']], on='initial_group_identifier')"
   ]
  },
  {
   "cell_type": "code",
   "execution_count": null,
   "id": "441a8485",
   "metadata": {
    "scrolled": false
   },
   "outputs": [],
   "source": [
    "df.head(10)"
   ]
  },
  {
   "cell_type": "code",
   "execution_count": null,
   "id": "49a3b30c",
   "metadata": {
    "scrolled": false
   },
   "outputs": [],
   "source": [
    "df[df['initial_group_identifier'].duplicated(keep=False)].sort_values(by='initial_group_identifier')"
   ]
  },
  {
   "cell_type": "code",
   "execution_count": null,
   "id": "acb6d317",
   "metadata": {},
   "outputs": [],
   "source": [
    "df_program[df_program['first_name'].duplicated(keep=False)]"
   ]
  },
  {
   "cell_type": "code",
   "execution_count": null,
   "id": "57a4ae25",
   "metadata": {},
   "outputs": [],
   "source": [
    "sub1 = df[df['initial_group_identifier'].duplicated(keep=False)].sort_values(by='initial_group_identifier')\n",
    "sub1['initial_group_identifier'].unique()"
   ]
  },
  {
   "cell_type": "code",
   "execution_count": null,
   "id": "16a6c223",
   "metadata": {},
   "outputs": [],
   "source": []
  }
 ],
 "metadata": {
  "kernelspec": {
   "display_name": "Python 3 (ipykernel)",
   "language": "python",
   "name": "python3"
  },
  "language_info": {
   "codemirror_mode": {
    "name": "ipython",
    "version": 3
   },
   "file_extension": ".py",
   "mimetype": "text/x-python",
   "name": "python",
   "nbconvert_exporter": "python",
   "pygments_lexer": "ipython3",
   "version": "3.9.13"
  }
 },
 "nbformat": 4,
 "nbformat_minor": 5
}
